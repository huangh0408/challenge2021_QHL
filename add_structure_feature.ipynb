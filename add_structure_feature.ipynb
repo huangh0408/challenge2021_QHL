{
 "cells": [
  {
   "cell_type": "code",
   "execution_count": 1,
   "metadata": {},
   "outputs": [],
   "source": [
    "import lightgbm\n",
    "import numpy\n",
    "import pandas\n",
    "import random\n",
    "import os\n",
    "import numpy as np\n",
    "def statfeature(table, key, statdict, pre=\"\"):\n",
    "   if not isinstance(key, list):\n",
    "      key = [key]\n",
    "   table_temp=table.groupby(key).aggregate(statdict)\n",
    "   table_temp.columns = [\"%s%s and %s%s\" % (pre, \"\".join(key), col, c if isinstance(c, str) else c.__name__) for col, fun in statdict.items() for c in (fun if isinstance(fun, list) else [fun])]\n",
    "   return table_temp\n",
    "pandas.DataFrame.statfeature = statfeature\n",
    "\n",
    "train_table = pandas.read_csv(\"final_dataset_train.tsv\", sep=\"\\t\")\n",
    "train_table[\"id\"] = range(-1, -len(train_table) -1, -1)\n",
    "test_table = pandas.read_csv(\"final_dataset_testA.tsv\", sep=\"\\t\")\n",
    "test_table[\"delta_g\"] = -1"
   ]
  },
  {
   "cell_type": "code",
   "execution_count": 6,
   "metadata": {},
   "outputs": [],
   "source": [
    "def align(qseq, tseq):\n",
    "    qlen, tlen = len(qseq), len(tseq)\n",
    "    a01 = np.zeros([qlen+1, tlen+1], dtype=np.int32)\n",
    "    a10 = np.zeros([qlen+1, tlen+1], dtype=np.int32)\n",
    "    a11 = np.zeros([qlen+1, tlen+1], dtype=np.int32)\n",
    "    for i in range(1, qlen+1):\n",
    "        for j in range(1, tlen+1):\n",
    "            if qseq[i-1] == tseq[j-1]:\n",
    "                a11[i, j] = max(a11[i-1, j-1] + 1, a01[i-1, j-1] + 1, a10[i-1, j-1] + 1, 0)\n",
    "            else:\n",
    "                a11[i, j] = max(a11[i-1, j-1] - 1, a01[i-1, j-1] - 1, a10[i-1, j-1] - 1, 0)\n",
    "            a01[i, j] = max(a01[i, j-1] - 1, a11[i, j-1] - 4, 0)\n",
    "            a10[i, j] = max(a10[i-1, j] - 1, a11[i-1, j] - 4, 0)\n",
    "    return np.max(a11) / (qlen+0.0)"
   ]
  },
  {
   "cell_type": "code",
   "execution_count": 7,
   "metadata": {},
   "outputs": [
    {
     "name": "stdout",
     "output_type": "stream",
     "text": [
      "0.9813084112149533\n"
     ]
    }
   ],
   "source": [
    "seq1=\"DIVLTQSPATLSVTPGDSVSLSCRASQSISNNLHWYQQKSHESPRLLIKYASQSISGIPSRFSGSGSGTDFTLSINSVETEDFGMYFCQQSNSWPYTFGGGTKLEIKRADAAPTVSIFPPSSEQLTSGGASVVCFLNNFYPKDINVKWKIDGSERQNGVLNSWTDQDSKDSTYSMSSTLTLTKDEYERHNSYTCEATHKTSTSPIVKSFNRNEC\"\n",
    "seq2=\"DIVLTQSPATLHKTPGDSVSLSCRASQSISNNLHWYQQKSHESPRLLIKYASQSISGIPSRFSGSGSGTDFTLSINSVETEDFGMYFCQQSNSWPYTFGGGTKLEIKRADAAPTVSIFPPSSEQLTSGGASVVCFLNNFYPKDINVKWKIDGSERQNGVLNSWTDQDSKDSTYSMSSTLTLTKDEYERHNSYTCEATHKTSTSPIVKSFNRNEC\"\n",
    "score=align(seq1,seq2)\n",
    "print(score)"
   ]
  },
  {
   "cell_type": "code",
   "execution_count": 13,
   "metadata": {},
   "outputs": [
    {
     "ename": "IndexError",
     "evalue": "list index out of range",
     "output_type": "error",
     "traceback": [
      "\u001b[0;31m---------------------------------------------------------------------------\u001b[0m",
      "\u001b[0;31mIndexError\u001b[0m                                Traceback (most recent call last)",
      "\u001b[0;32m<ipython-input-13-050aff2c4ff1>\u001b[0m in \u001b[0;36m<module>\u001b[0;34m()\u001b[0m\n\u001b[1;32m     17\u001b[0m             \u001b[0mtemp\u001b[0m\u001b[0;34m=\u001b[0m\u001b[0mline\u001b[0m\u001b[0;34m.\u001b[0m\u001b[0msplit\u001b[0m\u001b[0;34m(\u001b[0m\u001b[0;34m)\u001b[0m\u001b[0;34m\u001b[0m\u001b[0m\n\u001b[1;32m     18\u001b[0m             \u001b[0mchain\u001b[0m\u001b[0;34m=\u001b[0m\u001b[0mtemp\u001b[0m\u001b[0;34m[\u001b[0m\u001b[0;36m0\u001b[0m\u001b[0;34m]\u001b[0m\u001b[0;34m\u001b[0m\u001b[0m\n\u001b[0;32m---> 19\u001b[0;31m             \u001b[0msequence\u001b[0m\u001b[0;34m=\u001b[0m\u001b[0mtemp\u001b[0m\u001b[0;34m[\u001b[0m\u001b[0;36m1\u001b[0m\u001b[0;34m]\u001b[0m\u001b[0;34m\u001b[0m\u001b[0m\n\u001b[0m\u001b[1;32m     20\u001b[0m             \u001b[0mscore\u001b[0m\u001b[0;34m=\u001b[0m\u001b[0malign\u001b[0m\u001b[0;34m(\u001b[0m\u001b[0mfasta\u001b[0m\u001b[0;34m,\u001b[0m\u001b[0msequence\u001b[0m\u001b[0;34m)\u001b[0m\u001b[0;34m\u001b[0m\u001b[0m\n\u001b[1;32m     21\u001b[0m             \u001b[0malign_score\u001b[0m\u001b[0;34m[\u001b[0m\u001b[0mstr\u001b[0m\u001b[0;34m(\u001b[0m\u001b[0mkk\u001b[0m\u001b[0;34m)\u001b[0m\u001b[0;34m]\u001b[0m\u001b[0;34m=\u001b[0m\u001b[0mchain\u001b[0m\u001b[0;34m\u001b[0m\u001b[0m\n",
      "\u001b[0;31mIndexError\u001b[0m: list index out of range"
     ]
    }
   ],
   "source": [
    "train_base_feature_table = train_table.loc[:, [\"id\",\"pdb\",\"antibody_seq_a\", \"antibody_seq_b\", \"antigen_seq\"]]\n",
    "for a in [\"antibody_seq_a\", \"antibody_seq_b\", \"antigen_seq\"]:\n",
    "    #train_base_feature_table[\"%s length\" % a] = train_base_feature_table[a].str.len()\n",
    "    \n",
    "    #ll=train_base_feature_table[a].str.len()\n",
    "    feature=np.zeros((1706,60))\n",
    "    #for b in range(1706):\n",
    "    for b in range(1706):\n",
    "        pdb_name=train_base_feature_table[\"pdb\"][b]\n",
    "        fasta=train_base_feature_table[a][b]\n",
    "        pdb_structure_name=os.path.join(\"./sequence_by_chain/\",pdb_name+'_sequence_chain.txt')\n",
    "        f=open(pdb_structure_name,\"r\")\n",
    "        align_score={}\n",
    "        score_all=[]\n",
    "        kk=0\n",
    "        for line in f:\n",
    "            temp=line.split()\n",
    "            chain=temp[0]\n",
    "            sequence=temp[1]\n",
    "            score=align(fasta,sequence)\n",
    "            align_score[str(kk)]=chain\n",
    "            score_all.append(score)\n",
    "            kk+=1\n",
    "        index=score_all.index(max(score_all))\n",
    "       # print(align_score[str(index)])\n",
    "        fasta_name=os.path.join(\"./trainset_fasta/\",str(b)+'_'+a+'_of_'+pdb_name+'.txt')\n",
    "        f1=open(fasta_name,\"w\")\n",
    "        print >> f1, \"%s %s\" %(fasta,align_score[str(index)])\n",
    "        #feature[b,:]=nature_vector(fasta)\n",
    "    #for c in range(60):\n",
    "    #    train_base_feature_table[\"%s_%s\" % (a, c)] = feature[:,c]\n",
    "    \n",
    "#train_base_feature_table = train_base_feature_table.drop([\"antibody_seq_a\", \"antibody_seq_b\", \"antigen_seq\"], axis=1)\n",
    "test_base_feature_table = test_table.loc[:, [\"id\",\"pdb\", \"antibody_seq_a\", \"antibody_seq_b\", \"antigen_seq\"]]\n",
    "for a in [\"antibody_seq_a\", \"antibody_seq_b\", \"antigen_seq\"]:\n",
    "    #test_base_feature_table[\"%s length\" % a] = test_base_feature_table[a].str.len()\n",
    "    #ll=test_base_feature_table[a].str.len()\n",
    "    feature=np.zeros((178,60))\n",
    "    for b in range(178):\n",
    "        pdb_name=test_base_feature_table[\"pdb\"][b]\n",
    "        fasta=test_base_feature_table[a][b]\n",
    "        pdb_structure_name=os.path.join(\"./sequence_by_chain/\",pdb_name+'_sequence_chain.txt')\n",
    "        f=open(pdb_structure_name,\"r\")\n",
    "        align_score={}\n",
    "        score_all=[]\n",
    "        kk=0\n",
    "        for line in f:\n",
    "            temp=line.split()\n",
    "            chain=temp[0]\n",
    "            sequence=temp[1]\n",
    "            score=align(fasta,sequence)\n",
    "            align_score[str(kk)]=chain\n",
    "            score_all.append(score)\n",
    "            kk+=1\n",
    "        index=score_all.index(max(score_all))\n",
    "        fasta_name=os.path.join(\"./testset_fasta/\",str(b)+'_'+a+'_of_'+pdb_name+'.txt')\n",
    "        f1=open(fasta_name,\"w\")\n",
    "        print >> f1, \"%s %s\" %(fasta,align_score[str(index)])\n",
    "#        fasta=test_base_feature_table[a][b]\n",
    "#        feature[b,:]=nature_vector(fasta)\n",
    "   # for c in range(60):\n",
    "   #     test_base_feature_table[\"%s_%s\" % (a, c)] = feature[:,c]\n",
    "#test_base_feature_table = test_base_feature_table.drop([\"antibody_seq_a\", \"antibody_seq_b\", \"antigen_seq\"], axis=1)"
   ]
  },
  {
   "cell_type": "code",
   "execution_count": null,
   "metadata": {},
   "outputs": [],
   "source": []
  }
 ],
 "metadata": {
  "kernelspec": {
   "display_name": "tensorflow2.7",
   "language": "python",
   "name": "tf27"
  },
  "language_info": {
   "codemirror_mode": {
    "name": "ipython",
    "version": 2
   },
   "file_extension": ".py",
   "mimetype": "text/x-python",
   "name": "python",
   "nbconvert_exporter": "python",
   "pygments_lexer": "ipython2",
   "version": "2.7.15"
  }
 },
 "nbformat": 4,
 "nbformat_minor": 2
}
